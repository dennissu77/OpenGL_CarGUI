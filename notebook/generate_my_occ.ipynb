{
 "cells": [
  {
   "cell_type": "code",
   "execution_count": 48,
   "metadata": {},
   "outputs": [
    {
     "name": "stdout",
     "output_type": "stream",
     "text": [
      "val場景中的pcd.bin文件:\n",
      "81\n"
     ]
    }
   ],
   "source": [
    "from nuscenes.nuscenes import NuScenes\n",
    "import shutil\n",
    "import os\n",
    "\n",
    "\n",
    "# 加載 NuScenes mini 數據集\n",
    "nusc = NuScenes(version='v1.0-mini', dataroot='data/nuscenes', verbose=False)\n",
    "\n",
    "# 遍歷 val split 的場景\n",
    "val_scenes = list(filter(lambda scene: scene['name'] in ['scene-0103', 'scene-0916'], nusc.scene))\n",
    "\n",
    "pcd_bin_files = []\n",
    "\n",
    "for scene in val_scenes:\n",
    "    # 獲取該場景的第一個sample\n",
    "    sample_token = scene['first_sample_token']\n",
    "    sample = nusc.get('sample', sample_token)\n",
    "    while sample:\n",
    "        # 獲取sample數據\n",
    "        # print(sample)\n",
    "        \n",
    "        \n",
    "        # 獲取激光雷達數據 (LIDAR_TOP)\n",
    "        lidar_data = nusc.get('sample_data', sample['data']['LIDAR_TOP'])\n",
    "        pcd_bin_files.append(lidar_data['filename'].split('/')[-1])\n",
    "        \n",
    "        # 前進到下一個sample\n",
    "        # sample_token = lidar_data['next']\n",
    "        if sample['next'] == \"\":\n",
    "            break\n",
    "        sample = nusc.get('sample', sample['next'])\n",
    "\n",
    "# 打印結果\n",
    "print(\"val場景中的pcd.bin文件:\")\n",
    "# for file in pcd_bin_files:\n",
    "#     print(file)\n",
    "print(pcd_bin_files.__len__())\n",
    "\n",
    "tar_dir = 'data/my_surocc/'\n",
    "src_dir = 'data/surroundocc/samples/'\n",
    "\n",
    "os.makedirs(tar_dir, exist_ok=True)\n",
    "for idx, file in enumerate(pcd_bin_files):\n",
    "    shutil.copyfile(src_dir + file + '.npy', tar_dir + str(idx) + '.npy')\n"
   ]
  }
 ],
 "metadata": {
  "kernelspec": {
   "display_name": "selfocc",
   "language": "python",
   "name": "python3"
  },
  "language_info": {
   "codemirror_mode": {
    "name": "ipython",
    "version": 3
   },
   "file_extension": ".py",
   "mimetype": "text/x-python",
   "name": "python",
   "nbconvert_exporter": "python",
   "pygments_lexer": "ipython3",
   "version": "3.8.16"
  }
 },
 "nbformat": 4,
 "nbformat_minor": 2
}
